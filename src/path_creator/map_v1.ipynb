{
 "cells": [
  {
   "cell_type": "code",
   "execution_count": 1,
   "metadata": {},
   "outputs": [
    {
     "name": "stdout",
     "output_type": "stream",
     "text": [
      "123123\n"
     ]
    }
   ],
   "source": [
    "import sys\n",
    "sys.path.append('/opt/ros/melodic/lib/python2.7/dist-packages/')\n",
    "\n",
    "# The next line should now work!\n",
    "import jupyros\n",
    "\n",
    "import roslib;\n",
    "import rospy\n",
    "from std_msgs.msg import String\n",
    "from sensor_msgs.msg import LaserScan\n",
    "from geometry_msgs.msg import Twist\n",
    "from geometry_msgs.msg import Quaternion\n",
    "from nav_msgs.msg import Odometry\n",
    "from tf.transformations import euler_from_quaternion, quaternion_from_euler\n",
    "import math\n",
    "import random\n",
    "import numpy as np\n",
    "from nav_msgs.msg import OccupancyGrid\n",
    "from nav_msgs.msg import MapMetaData\n",
    "from std_msgs.msg import Header\n",
    "\n",
    "import numpy as np\n",
    "import matplotlib.pyplot as plt\n",
    "#import scipy.stats as stats\n",
    "\n",
    "from PIL import Image\n",
    "from pprint import pprint\n",
    "\n",
    "from scipy import signal\n",
    "print(123123)\n",
    "\n",
    "def dump(obj):\n",
    "  for attr in dir(obj):\n",
    "    print(\"obj.%s = %r\" % (attr, getattr(obj, attr)))"
   ]
  },
  {
   "cell_type": "code",
   "execution_count": null,
   "metadata": {},
   "outputs": [
    {
     "name": "stderr",
     "output_type": "stream",
     "text": [
      "[ERROR] [1611871247.918145]: bad callback: <function callback at 0x7f9f7b43f398>\n",
      "Traceback (most recent call last):\n",
      "  File \"/opt/ros/melodic/lib/python2.7/dist-packages/rospy/topics.py\", line 750, in _invoke_callback\n",
      "    cb(msg)\n",
      "  File \"<ipython-input-2-860faa687140>\", line 32, in callback\n",
      "    plt.imshow(w, interpolation='nearest', aspect='auto')\n",
      "  File \"/home/den/.local/lib/python2.7/site-packages/matplotlib/pyplot.py\", line 3210, in imshow\n",
      "    **kwargs)\n",
      "  File \"/home/den/.local/lib/python2.7/site-packages/matplotlib/__init__.py\", line 1870, in inner\n",
      "    return func(ax, *args, **kwargs)\n",
      "  File \"/home/den/.local/lib/python2.7/site-packages/matplotlib/axes/_axes.py\", line 5501, in imshow\n",
      "    im.set_data(X)\n",
      "  File \"/home/den/.local/lib/python2.7/site-packages/matplotlib/image.py\", line 646, in set_data\n",
      "    raise TypeError(\"Invalid dimensions for image data\")\n",
      "TypeError: Invalid dimensions for image data\n",
      "\n"
     ]
    }
   ],
   "source": [
    "#global map\n",
    "\n",
    "rospy.init_node(\"path_creator\")\n",
    "\n",
    "def callback(data):\n",
    "        map = data\n",
    "        \n",
    "        robot_diametr = 0.3\n",
    "        robot_center_pixel_x = 10\n",
    "        robot_center_pixel_y = 10\n",
    "\n",
    "        z = map.info.resolution #meters / pixel \n",
    "        robot_in_pixels = robot_diametr / map.info.resolution #6x6\n",
    "\n",
    "        w = map.info.width\n",
    "        h = map.info.height\n",
    "        d = map.data\n",
    "        array_2d = np.reshape(map.data, (-1, map.info.width))\n",
    "        \n",
    "        \n",
    "        #plt.figure(figsize = (20,20))\n",
    "        #plt.imshow(array_2d, interpolation='nearest', aspect='auto')\n",
    "        #plt.show()\n",
    "        #print(robot_in_pixels)\n",
    "        #w = array_2d[1:,10:30]\n",
    "        #is_wall = np.any(w[:, 0] == -1)\n",
    "        #print(is_wall)\n",
    "        #print(w)\n",
    "        \n",
    "        array_2d[1:,1:30]=200\n",
    "        #plt.figure(figsize = (1,3))\n",
    "        #plt.imshow(w, interpolation='nearest', aspect='auto')\n",
    "        #plt.show()\n",
    "        \n",
    "        plt.figure(figsize = (90,28))\n",
    "        plt.imshow(array_2d, interpolation='nearest', aspect='auto')\n",
    "        plt.show()\n",
    "        print('!!!')\n",
    "        \n",
    "rospy.Subscriber(\"/map\", OccupancyGrid, callback)\n",
    "rospy.spin()"
   ]
  },
  {
   "cell_type": "code",
   "execution_count": null,
   "metadata": {},
   "outputs": [],
   "source": []
  },
  {
   "cell_type": "code",
   "execution_count": null,
   "metadata": {},
   "outputs": [],
   "source": []
  },
  {
   "cell_type": "markdown",
   "metadata": {},
   "source": [
    "# "
   ]
  }
 ],
 "metadata": {
  "kernelspec": {
   "display_name": "Python 2",
   "language": "python",
   "name": "python2"
  },
  "language_info": {
   "codemirror_mode": {
    "name": "ipython",
    "version": 2
   },
   "file_extension": ".py",
   "mimetype": "text/x-python",
   "name": "python",
   "nbconvert_exporter": "python",
   "pygments_lexer": "ipython2",
   "version": "2.7.15"
  }
 },
 "nbformat": 4,
 "nbformat_minor": 2
}
